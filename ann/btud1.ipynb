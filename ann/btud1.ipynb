{
 "cells": [
  {
   "cell_type": "code",
   "execution_count": 1,
   "metadata": {},
   "outputs": [],
   "source": [
    "import numpy as np\n",
    "from sklearn import datasets\n",
    "from sklearn.model_selection import train_test_split\n",
    "from scipy import sparse"
   ]
  },
  {
   "cell_type": "code",
   "execution_count": 2,
   "metadata": {},
   "outputs": [],
   "source": [
    "def softmax(V):\n",
    "    e_V = np.exp(V - np.max(V, axis=0, keepdims=True))\n",
    "    Z = e_V / e_V.sum(axis=0)\n",
    "    return Z"
   ]
  },
  {
   "cell_type": "code",
   "execution_count": 4,
   "metadata": {},
   "outputs": [],
   "source": [
    "# cost or loss function \n",
    "def cost(Y, Yhat): \n",
    "    return -np.sum(Y*np.log(Yhat))/Y.shape[1]"
   ]
  },
  {
   "cell_type": "code",
   "execution_count": 5,
   "metadata": {},
   "outputs": [
    {
     "name": "stdout",
     "output_type": "stream",
     "text": [
      "iter 0, loss: 1.098858\n",
      "iter 1000, loss: 0.301441\n",
      "iter 2000, loss: 0.135906\n",
      "iter 3000, loss: 0.101863\n",
      "iter 4000, loss: 0.089456\n",
      "iter 5000, loss: 0.083202\n",
      "iter 6000, loss: 0.079436\n",
      "iter 7000, loss: 0.076900\n",
      "iter 8000, loss: 0.075056\n",
      "iter 9000, loss: 0.073636\n",
      "Training accuracy: 98.10 %\n",
      "Test accuracy: 100.00 %\n"
     ]
    }
   ],
   "source": [
    "\n",
    "def convert_labels(y, C):\n",
    "    Y = sparse.coo_matrix((np.ones_like(y),\n",
    "                            (y, np.arange(len(y)))), shape=(C, len(y))).toarray()\n",
    "    return Y\n",
    "\n",
    "iris = datasets.load_iris()\n",
    "X = iris.data.T  \n",
    "y = iris.target  \n",
    "\n",
    "X_train, X_test, y_train, y_test = train_test_split(X.T, y, test_size=0.3, random_state=42)\n",
    "X_train = X_train.T \n",
    "X_test = X_test.T  \n",
    "\n",
    "d0 = X_train.shape[0] \n",
    "d1 = h = 100           \n",
    "d2 = C = 3             \n",
    "\n",
    "W1 = 0.01 * np.random.randn(d0, d1)\n",
    "b1 = np.zeros((d1, 1))\n",
    "W2 = 0.01 * np.random.randn(d1, d2)\n",
    "b2 = np.zeros((d2, 1))\n",
    "\n",
    "Y = convert_labels(y_train, C)\n",
    "N = X_train.shape[1] \n",
    "eta = 0.01 \n",
    "\n",
    "for i in range(10000):\n",
    "    ## Feedforward\n",
    "    Z1 = np.dot(W1.T, X_train) + b1\n",
    "    A1 = np.maximum(Z1, 0)  # ReLU\n",
    "    Z2 = np.dot(W2.T, A1) + b2\n",
    "    Yhat = softmax(Z2)\n",
    "\n",
    "    # In chi phí sau mỗi 1000 lần lặp\n",
    "    if i % 1000 == 0:\n",
    "        loss = cost(Y, Yhat)\n",
    "        print(\"iter %d, loss: %f\" % (i, loss))\n",
    "\n",
    "    # Backpropagation\n",
    "    E2 = (Yhat - Y) / N\n",
    "    dW2 = np.dot(A1, E2.T)\n",
    "    db2 = np.sum(E2, axis=1, keepdims=True)\n",
    "    E1 = np.dot(W2, E2)\n",
    "    E1[Z1 <= 0] = 0  # Gradient của ReLU\n",
    "    dW1 = np.dot(X_train, E1.T)\n",
    "    db1 = np.sum(E1, axis=1, keepdims=True)\n",
    "\n",
    "    W1 += -eta * dW1\n",
    "    b1 += -eta * db1\n",
    "    W2 += -eta * dW2\n",
    "    b2 += -eta * db2\n",
    "\n",
    "Z1 = np.dot(W1.T, X_train) + b1\n",
    "A1 = np.maximum(Z1, 0)\n",
    "Z2 = np.dot(W2.T, A1) + b2\n",
    "predicted_class = np.argmax(Z2, axis=0)\n",
    "acc = 100 * np.mean(predicted_class == y_train)\n",
    "print('Training accuracy: %.2f %%' % (acc))\n",
    "\n",
    "Z1_test = np.dot(W1.T, X_test) + b1\n",
    "A1_test = np.maximum(Z1_test, 0)\n",
    "Z2_test = np.dot(W2.T, A1_test) + b2\n",
    "predicted_class_test = np.argmax(Z2_test, axis=0)\n",
    "test_acc = 100 * np.mean(predicted_class_test == y_test)\n",
    "print('Test accuracy: %.2f %%' % (test_acc))\n"
   ]
  }
 ],
 "metadata": {
  "kernelspec": {
   "display_name": "venv",
   "language": "python",
   "name": "python3"
  },
  "language_info": {
   "codemirror_mode": {
    "name": "ipython",
    "version": 3
   },
   "file_extension": ".py",
   "mimetype": "text/x-python",
   "name": "python",
   "nbconvert_exporter": "python",
   "pygments_lexer": "ipython3",
   "version": "3.13.0"
  }
 },
 "nbformat": 4,
 "nbformat_minor": 2
}
