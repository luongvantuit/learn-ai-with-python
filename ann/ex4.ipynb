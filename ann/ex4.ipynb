{
 "cells": [
  {
   "cell_type": "code",
   "execution_count": 3,
   "metadata": {},
   "outputs": [],
   "source": [
    "import numpy as np  \n",
    "import cv2\n",
    "from sklearn.decomposition import PCA\n",
    "from sklearn.model_selection import train_test_split\n",
    "from sklearn.linear_model import LogisticRegression\n",
    "from sklearn.naive_bayes import GaussianNB, MultinomialNB\n",
    "from sklearn.metrics import accuracy_score\n",
    "import matplotlib.pyplot as plt"
   ]
  },
  {
   "cell_type": "code",
   "execution_count": 4,
   "metadata": {},
   "outputs": [
    {
     "name": "stdout",
     "output_type": "stream",
     "text": [
      "165 77760 243 320\n"
     ]
    }
   ],
   "source": [
    "# path to the database - change it if needed\n",
    "path = \"./yalefaces_data/\"\n",
    "\n",
    "ids = range(1, 16)  # 15 people\n",
    "states = [\n",
    "    \"centerlight\",\n",
    "    \"glasses\",\n",
    "    \"happy\",\n",
    "    \"leftlight\",\n",
    "    \"noglasses\",\n",
    "    \"normal\",\n",
    "    \"rightlight\",\n",
    "    \"sad\",\n",
    "    \"sleepy\",\n",
    "    \"surprised\",\n",
    "    \"wink\",\n",
    "]\n",
    "prefix = \"subject\"\n",
    "surfix = \".png\"  # file extension is png\n",
    "\n",
    "# open one picture to get the image's size\n",
    "fn = prefix + \"01.\" + states[0] + surfix\n",
    "im = cv2.imread(path + fn, 0)\n",
    "\n",
    "h = im.shape[0]  # hight\n",
    "w = im.shape[1]  # width\n",
    "\n",
    "D = h * w\n",
    "N = len(states) * 15\n",
    "print(N, D, h, w)\n",
    "\n",
    "X = np.zeros((D, N))\n",
    "y = np.zeros(N) \n",
    "\n",
    "# collect all data\n",
    "count = 0\n",
    "\n",
    "# there are 15 people\n",
    "for person_id in range(1, 16):\n",
    "    for state in states:\n",
    "\n",
    "        # get name of each image file\n",
    "        fn = path + prefix + str(person_id).zfill(2) + \".\" + state + surfix\n",
    "\n",
    "        # open the file and read as grey image\n",
    "        tmp = cv2.imread(fn, cv2.IMREAD_GRAYSCALE)\n",
    "\n",
    "        # then add image to dataset X\n",
    "        X[:, count] = tmp.reshape(D)\n",
    "        \n",
    "        y[count] = person_id - 1\n",
    "        count += 1"
   ]
  },
  {
   "cell_type": "code",
   "execution_count": 5,
   "metadata": {},
   "outputs": [
    {
     "name": "stdout",
     "output_type": "stream",
     "text": [
      "Shape of X after PCA: (165, 125)\n"
     ]
    }
   ],
   "source": [
    "pca = PCA(n_components=125)\n",
    "X_reduced = pca.fit_transform(X.T)\n",
    "\n",
    "print(\"Shape of X after PCA:\", X_reduced.shape)"
   ]
  },
  {
   "cell_type": "code",
   "execution_count": 6,
   "metadata": {},
   "outputs": [],
   "source": [
    "def softmax(V):\n",
    "    e_V = np.exp(V - np.max(V, axis=0, keepdims=True))\n",
    "    Z = e_V / e_V.sum(axis=0)\n",
    "    return Z"
   ]
  },
  {
   "cell_type": "code",
   "execution_count": 7,
   "metadata": {},
   "outputs": [],
   "source": [
    "# cost or loss function \n",
    "def cost(Y, Yhat): \n",
    "    return -np.sum(Y*np.log(Yhat))/Y.shape[1]"
   ]
  },
  {
   "cell_type": "code",
   "execution_count": 8,
   "metadata": {},
   "outputs": [
    {
     "name": "stdout",
     "output_type": "stream",
     "text": [
      "Logistic Regression Accuracy: 0.98\n",
      "Naive Bayes Accuracy: 0.72\n"
     ]
    }
   ],
   "source": [
    "## One-hot coding \n",
    "from scipy import sparse \n",
    "def convert_labels(y, C):\n",
    "    Y = sparse.coo_matrix((np.ones_like(y),\n",
    "                            (y, np.arange(len(y)))), shape=(C, len(y))).toarray()\n",
    "    return Y\n",
    "\n",
    "# Split data into train (70%) and test (30%)\n",
    "X_train, X_test, y_train, y_test = train_test_split(X_reduced, y, test_size=0.3, random_state=42)\n",
    "\n",
    "## 1. Multinomial Logistic Regression\n",
    "logistic_model = LogisticRegression(solver='lbfgs', max_iter=1000)\n",
    "logistic_model.fit(X_train, y_train)\n",
    "y_pred_logistic = logistic_model.predict(X_test)\n",
    "logistic_accuracy = accuracy_score(y_test, y_pred_logistic)\n",
    "print(f'Logistic Regression Accuracy: {logistic_accuracy:.2f}')\n",
    "\n",
    "## 2. Naïve Bayes (using GaussianNB for continuous features)\n",
    "nb_model = GaussianNB()\n",
    "nb_model.fit(X_train, y_train)\n",
    "y_pred_nb = nb_model.predict(X_test)\n",
    "nb_accuracy = accuracy_score(y_test, y_pred_nb)\n",
    "print(f'Naive Bayes Accuracy: {nb_accuracy:.2f}')"
   ]
  },
  {
   "cell_type": "code",
   "execution_count": 9,
   "metadata": {},
   "outputs": [
    {
     "name": "stdout",
     "output_type": "stream",
     "text": [
      "iter 0, loss: 38.301905\n"
     ]
    },
    {
     "name": "stderr",
     "output_type": "stream",
     "text": [
      "/var/folders/kz/3z1gswxj4rg6qs0rq7fn6r880000gn/T/ipykernel_36488/2122697384.py:2: RuntimeWarning: overflow encountered in subtract\n",
      "  e_V = np.exp(V - np.max(V, axis=0, keepdims=True))\n",
      "/var/folders/kz/3z1gswxj4rg6qs0rq7fn6r880000gn/T/ipykernel_36488/2122697384.py:2: RuntimeWarning: invalid value encountered in subtract\n",
      "  e_V = np.exp(V - np.max(V, axis=0, keepdims=True))\n"
     ]
    },
    {
     "name": "stdout",
     "output_type": "stream",
     "text": [
      "iter 1000, loss: nan\n",
      "iter 2000, loss: nan\n",
      "iter 3000, loss: nan\n",
      "iter 4000, loss: nan\n",
      "iter 5000, loss: nan\n",
      "iter 6000, loss: nan\n",
      "iter 7000, loss: nan\n",
      "iter 8000, loss: nan\n",
      "iter 9000, loss: nan\n",
      "Training accuracy: 7.83 %\n",
      "Test accuracy: 4.00 %\n"
     ]
    }
   ],
   "source": [
    "X_train = X_train.T\n",
    "X_test = X_test.T \n",
    "\n",
    "# Các tham số mạng\n",
    "d0 = X_train.shape[0]  \n",
    "d1 = h = 165         \n",
    "d2 = C = 15            \n",
    "\n",
    "# Khởi tạo tham số ngẫu nhiên\n",
    "W1 = 0.01 * np.random.randn(d0, d1)\n",
    "b1 = np.zeros((d1, 1))\n",
    "W2 = 0.01 * np.random.randn(d1, d2)\n",
    "b2 = np.zeros((d2, 1))\n",
    "\n",
    "# Chuyển đổi nhãn thành one-hot encoding\n",
    "Y = convert_labels(y_train, C)\n",
    "N = X_train.shape[1]  # Số mẫu trong tập huấn luyện\n",
    "eta = 0.01  # Tốc độ học\n",
    "\n",
    "# Huấn luyện mạng ANN\n",
    "for i in range(10000):\n",
    "    ## Feedforward\n",
    "    Z1 = np.dot(W1.T, X_train) + b1\n",
    "    A1 = np.maximum(Z1, 0)  # ReLU\n",
    "    Z2 = np.dot(W2.T, A1) + b2\n",
    "    Yhat = softmax(Z2)\n",
    "\n",
    "    # In chi phí sau mỗi 1000 lần lặp\n",
    "    if i % 1000 == 0:\n",
    "        loss = cost(Y, Yhat)\n",
    "        print(\"iter %d, loss: %f\" % (i, loss))\n",
    "\n",
    "    # Backpropagation\n",
    "    E2 = (Yhat - Y) / N\n",
    "    dW2 = np.dot(A1, E2.T)\n",
    "    db2 = np.sum(E2, axis=1, keepdims=True)\n",
    "    E1 = np.dot(W2, E2)\n",
    "    E1[Z1 <= 0] = 0  # Gradient của ReLU\n",
    "    dW1 = np.dot(X_train, E1.T)\n",
    "    db1 = np.sum(E1, axis=1, keepdims=True)\n",
    "\n",
    "    W1 += -eta * dW1\n",
    "    b1 += -eta * db1\n",
    "    W2 += -eta * dW2\n",
    "    b2 += -eta * db2\n",
    "\n",
    "Z1 = np.dot(W1.T, X_train) + b1\n",
    "A1 = np.maximum(Z1, 0)\n",
    "Z2 = np.dot(W2.T, A1) + b2\n",
    "predicted_class = np.argmax(Z2, axis=0)\n",
    "acc = 100 * np.mean(predicted_class == y_train)\n",
    "print('Training accuracy: %.2f %%' % (acc))\n",
    "\n",
    "Z1_test = np.dot(W1.T, X_test) + b1\n",
    "A1_test = np.maximum(Z1_test, 0)\n",
    "Z2_test = np.dot(W2.T, A1_test) + b2\n",
    "predicted_class_test = np.argmax(Z2_test, axis=0)\n",
    "test_acc = 100 * np.mean(predicted_class_test == y_test)\n",
    "print('Test accuracy: %.2f %%' % (test_acc))"
   ]
  },
  {
   "cell_type": "code",
   "execution_count": 10,
   "metadata": {},
   "outputs": [
    {
     "ename": "ValueError",
     "evalue": "shapes (165,125) and (233280,5) not aligned: 125 (dim 1) != 233280 (dim 0)",
     "output_type": "error",
     "traceback": [
      "\u001b[0;31m---------------------------------------------------------------------------\u001b[0m",
      "\u001b[0;31mValueError\u001b[0m                                Traceback (most recent call last)",
      "Cell \u001b[0;32mIn[10], line 27\u001b[0m\n\u001b[1;32m     23\u001b[0m     Z2 \u001b[38;5;241m=\u001b[39m np\u001b[38;5;241m.\u001b[39mdot(W2\u001b[38;5;241m.\u001b[39mT, A1) \u001b[38;5;241m+\u001b[39m b2  \n\u001b[1;32m     24\u001b[0m     \u001b[38;5;28;01mreturn\u001b[39;00m np\u001b[38;5;241m.\u001b[39margmax(Z2, axis\u001b[38;5;241m=\u001b[39m\u001b[38;5;241m0\u001b[39m)  \n\u001b[0;32m---> 27\u001b[0m predicted_classes \u001b[38;5;241m=\u001b[39m \u001b[43mpredict\u001b[49m\u001b[43m(\u001b[49m\u001b[43mimages_array\u001b[49m\u001b[43m)\u001b[49m\n\u001b[1;32m     28\u001b[0m \u001b[38;5;28mprint\u001b[39m(\u001b[38;5;124m\"\u001b[39m\u001b[38;5;124mPredicted classes for the new images:\u001b[39m\u001b[38;5;124m\"\u001b[39m, predicted_classes) \n",
      "Cell \u001b[0;32mIn[10], line 21\u001b[0m, in \u001b[0;36mpredict\u001b[0;34m(images)\u001b[0m\n\u001b[1;32m     20\u001b[0m \u001b[38;5;28;01mdef\u001b[39;00m \u001b[38;5;21mpredict\u001b[39m(images):\n\u001b[0;32m---> 21\u001b[0m     Z1 \u001b[38;5;241m=\u001b[39m \u001b[43mnp\u001b[49m\u001b[38;5;241;43m.\u001b[39;49m\u001b[43mdot\u001b[49m\u001b[43m(\u001b[49m\u001b[43mW1\u001b[49m\u001b[38;5;241;43m.\u001b[39;49m\u001b[43mT\u001b[49m\u001b[43m,\u001b[49m\u001b[43m \u001b[49m\u001b[43mimages\u001b[49m\u001b[38;5;241;43m.\u001b[39;49m\u001b[43mT\u001b[49m\u001b[43m)\u001b[49m \u001b[38;5;241m+\u001b[39m b1 \n\u001b[1;32m     22\u001b[0m     A1 \u001b[38;5;241m=\u001b[39m np\u001b[38;5;241m.\u001b[39mmaximum(Z1, \u001b[38;5;241m0\u001b[39m) \n\u001b[1;32m     23\u001b[0m     Z2 \u001b[38;5;241m=\u001b[39m np\u001b[38;5;241m.\u001b[39mdot(W2\u001b[38;5;241m.\u001b[39mT, A1) \u001b[38;5;241m+\u001b[39m b2  \n",
      "\u001b[0;31mValueError\u001b[0m: shapes (165,125) and (233280,5) not aligned: 125 (dim 1) != 233280 (dim 0)"
     ]
    }
   ],
   "source": [
    "def load_and_resize_image(file_path, height=320, width=243):\n",
    "    img = cv2.imread(file_path)\n",
    "    if img is None:\n",
    "        raise ValueError(f\"Image not found at {file_path}\")\n",
    "    img_resized = cv2.resize(img, (width, height))\n",
    "    return img_resized\n",
    "\n",
    "image_paths = [\n",
    "    './4/01.png',\n",
    "    './4/02.png',\n",
    "    './4/03.png',\n",
    "    './4/04.png',\n",
    "    './4/05.png',\n",
    "]\n",
    "\n",
    "images = [load_and_resize_image(path) for path in image_paths]\n",
    "\n",
    "images_array = np.array(images).reshape(len(images), -1) \n",
    "\n",
    "def predict(images):\n",
    "    Z1 = np.dot(W1.T, images.T) + b1 \n",
    "    A1 = np.maximum(Z1, 0) \n",
    "    Z2 = np.dot(W2.T, A1) + b2  \n",
    "    return np.argmax(Z2, axis=0)  \n",
    "\n",
    "\n",
    "predicted_classes = predict(images_array)\n",
    "print(\"Predicted classes for the new images:\", predicted_classes) "
   ]
  }
 ],
 "metadata": {
  "kernelspec": {
   "display_name": "venv",
   "language": "python",
   "name": "python3"
  },
  "language_info": {
   "codemirror_mode": {
    "name": "ipython",
    "version": 3
   },
   "file_extension": ".py",
   "mimetype": "text/x-python",
   "name": "python",
   "nbconvert_exporter": "python",
   "pygments_lexer": "ipython3",
   "version": "3.13.0"
  }
 },
 "nbformat": 4,
 "nbformat_minor": 2
}
