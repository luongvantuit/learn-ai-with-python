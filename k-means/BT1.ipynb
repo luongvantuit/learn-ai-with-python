{
  "nbformat": 4,
  "nbformat_minor": 0,
  "metadata": {
    "colab": {
      "provenance": [],
      "authorship_tag": "ABX9TyPqZ4EWF286NFvhvh+8QpU2",
      "include_colab_link": true
    },
    "kernelspec": {
      "name": "python3",
      "display_name": "Python 3"
    },
    "language_info": {
      "name": "python"
    }
  },
  "cells": [
    {
      "cell_type": "markdown",
      "metadata": {
        "id": "view-in-github",
        "colab_type": "text"
      },
      "source": [
        "<a href=\"https://colab.research.google.com/github/luongvantuit/learn-ai-with-python/blob/master/k-means/BT1.ipynb\" target=\"_parent\"><img src=\"https://colab.research.google.com/assets/colab-badge.svg\" alt=\"Open In Colab\"/></a>"
      ]
    },
    {
      "cell_type": "code",
      "execution_count": 1,
      "metadata": {
        "colab": {
          "base_uri": "https://localhost:8080/"
        },
        "id": "Rl5bKXswfj4c",
        "outputId": "7c908352-e2bb-417b-be78-fe9970fb0f17"
      },
      "outputs": [
        {
          "output_type": "stream",
          "name": "stdout",
          "text": [
            "Collecting python-mnist\n",
            "  Downloading python_mnist-0.7-py2.py3-none-any.whl.metadata (3.5 kB)\n",
            "Downloading python_mnist-0.7-py2.py3-none-any.whl (9.6 kB)\n",
            "Installing collected packages: python-mnist\n",
            "Successfully installed python-mnist-0.7\n"
          ]
        }
      ],
      "source": [
        "!pip install python-mnist"
      ]
    },
    {
      "cell_type": "code",
      "source": [
        "from google.colab import drive\n",
        "drive.mount('/content/drive')"
      ],
      "metadata": {
        "colab": {
          "base_uri": "https://localhost:8080/"
        },
        "id": "BzzqVvhlghvr",
        "outputId": "20f41e4f-8b62-4d17-ec76-ec93d1be3492"
      },
      "execution_count": 2,
      "outputs": [
        {
          "output_type": "stream",
          "name": "stdout",
          "text": [
            "Mounted at /content/drive\n"
          ]
        }
      ]
    },
    {
      "cell_type": "code",
      "source": [
        "# Gọi các thư viện cần thiết\n",
        "# Ta tự xây dựng phần k-means nên sẽ không gọi sklearn\n",
        "from __future__ import print_function\n",
        "import numpy as np\n",
        "import matplotlib.pyplot as plt\n",
        "from scipy.spatial.distance import cdist\n",
        "# Số cụm = 10\n",
        "K = 10"
      ],
      "metadata": {
        "id": "uIqeFO4VgI_h"
      },
      "execution_count": 3,
      "outputs": []
    },
    {
      "cell_type": "code",
      "source": [
        "from mnist import MNIST\n",
        "\n",
        "mndata = MNIST('/content/drive/My Drive/Machine Learning/Dataset/MNIST',gz=True)\n",
        "\n",
        "# Load training data\n",
        "X_train, y_train = mndata.load_training()\n",
        "\n",
        "# Convert lists to NumPy arrays and normalize\n",
        "X_train = np.array(X_train) / 255.0  # Normalize pixel values to [0, 1]\n",
        "y_train = np.array(y_train)"
      ],
      "metadata": {
        "id": "usikcVcqhluT"
      },
      "execution_count": 4,
      "outputs": []
    },
    {
      "cell_type": "code",
      "source": [
        "def kmeans_display(X, label):\n",
        "  K = np.amax(label) + 1\n",
        "  X0 = X[label == 0, :]\n",
        "  X1 = X[label == 1, :]\n",
        "  X2 = X[label == 2, :]\n",
        "  plt.plot(X0[:, 0], X0[:, 1], 'b^', markersize = 4, alpha = .8)\n",
        "  plt.plot(X1[:, 0], X1[:, 1], 'go', markersize = 4, alpha = .8)\n",
        "  plt.plot(X2[:, 0], X2[:, 1], 'rs', markersize = 4, alpha = .8)\n",
        "  plt.axis('equal')\n",
        "  plt.plot()\n",
        "  plt.show()"
      ],
      "metadata": {
        "id": "aOuwXy19gLSQ"
      },
      "execution_count": 5,
      "outputs": []
    },
    {
      "cell_type": "code",
      "source": [
        "def kmeans_init_centers(X, k):\n",
        "  # randomly pick k rows of X as initial centers\n",
        "  return X[np.random.choice(X.shape[0], k, replace=False)]\n",
        "\n",
        "def kmeans_assign_labels(X, centers):\n",
        "  # calculate pairwise distances btw data and centers\n",
        "  D = cdist(X, centers)\n",
        "  # return index of the closest center\n",
        "  return np.argmin(D, axis = 1)\n",
        "\n",
        "def kmeans_update_centers(X, labels, K):\n",
        "  centers = np.zeros((K, X.shape[1]))\n",
        "  for k in range(K):\n",
        "    # collect all points assigned to the k-th cluster\n",
        "    Xk = X[labels == k, :]\n",
        "    # take average\n",
        "    centers[k,:] = np.mean(Xk, axis = 0)\n",
        "  return centers\n",
        "\n",
        "def has_converged(centers, new_centers):\n",
        "  # return True if two sets of centers are the same\n",
        "  return (set([tuple(a) for a in centers]) == set([tuple(a) for a in new_centers]))"
      ],
      "metadata": {
        "id": "XlcLdUISgM8B"
      },
      "execution_count": 6,
      "outputs": []
    },
    {
      "cell_type": "code",
      "source": [
        "def kmeans(X, K):\n",
        "  centers = [kmeans_init_centers(X, K)]\n",
        "  labels = []\n",
        "  it = 0\n",
        "  while True:\n",
        "    labels.append(kmeans_assign_labels(X, centers[-1]))\n",
        "    new_centers = kmeans_update_centers(X, labels[-1], K)\n",
        "    if has_converged(centers[-1], new_centers):\n",
        "      break\n",
        "    centers.append(new_centers)\n",
        "    it += 1\n",
        "  return (centers, labels, it)"
      ],
      "metadata": {
        "id": "mEOP4MmjgU25"
      },
      "execution_count": 7,
      "outputs": []
    },
    {
      "cell_type": "code",
      "source": [
        "(centers, labels, it) = kmeans(X_train, K)\n",
        "print('Centers found by our algorithm:')\n",
        "print(centers[-1])\n",
        "kmeans_display(X_train, labels[-1])"
      ],
      "metadata": {
        "colab": {
          "base_uri": "https://localhost:8080/",
          "height": 574
        },
        "id": "ixs8FJCTgWUZ",
        "outputId": "f57d1f1c-2a95-462d-8571-73abb09dd14b"
      },
      "execution_count": 8,
      "outputs": [
        {
          "output_type": "stream",
          "name": "stdout",
          "text": [
            "Centers found by our algorithm:\n",
            "[[0. 0. 0. ... 0. 0. 0.]\n",
            " [0. 0. 0. ... 0. 0. 0.]\n",
            " [0. 0. 0. ... 0. 0. 0.]\n",
            " ...\n",
            " [0. 0. 0. ... 0. 0. 0.]\n",
            " [0. 0. 0. ... 0. 0. 0.]\n",
            " [0. 0. 0. ... 0. 0. 0.]]\n"
          ]
        },
        {
          "output_type": "display_data",
          "data": {
            "text/plain": [
              "<Figure size 640x480 with 1 Axes>"
            ],
            "image/png": "[encoded data removed]"
          },
          "metadata": {}
        }
      ]
    },
    {
      "cell_type": "code",
      "source": [
        "# Visualize the resulting cluster centers\n",
        "fig, axes = plt.subplots(1, K, figsize=(15, 4))\n",
        "for i in range(K):\n",
        "    center_image = centers[-1][i].reshape(28, 28)\n",
        "    axes[i].imshow(center_image, cmap='gray')\n",
        "    axes[i].axis('off')\n",
        "    axes[i].set_title(f'Cluster {i}')\n",
        "plt.show()\n",
        "\n",
        "print(f\"KMeans converged after {i} iterations.\")"
      ],
      "metadata": {
        "colab": {
          "base_uri": "https://localhost:8080/",
          "height": 175
        },
        "id": "TxWE-8yhjHSq",
        "outputId": "e02a9403-ebc8-41aa-b2aa-5f4363e4f46a"
      },
      "execution_count": 9,
      "outputs": [
        {
          "output_type": "display_data",
          "data": {
            "text/plain": [
              "<Figure size 1500x400 with 10 Axes>"
            ],
            "image/png": "[encoded data removed]"
          },
          "metadata": {}
        },
        {
          "output_type": "stream",
          "name": "stdout",
          "text": [
            "KMeans converged after 9 iterations.\n"
          ]
        }
      ]
    }
  ]
}